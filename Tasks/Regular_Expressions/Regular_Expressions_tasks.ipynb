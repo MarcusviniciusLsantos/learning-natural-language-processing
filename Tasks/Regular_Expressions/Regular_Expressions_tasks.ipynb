{
  "nbformat": 4,
  "nbformat_minor": 0,
  "metadata": {
    "colab": {
      "name": "Regular_Expressions_tasks.ipynb",
      "provenance": [],
      "collapsed_sections": [],
      "authorship_tag": "ABX9TyOAxhlHRgdNNqvU8s5RJPf4"
    },
    "kernelspec": {
      "name": "python3",
      "display_name": "Python 3"
    }
  },
  "cells": [
    {
      "cell_type": "markdown",
      "metadata": {
        "id": "emTk42j5oSui"
      },
      "source": [
        "#Implementing a function using regular expressions that is capable, with a single regular expression, of extracting street, number, apartment (optionally), neighborhood (optionally), zip code, city and state. This function should be able to work in all the examples below:\n",
        "\n",
        "• Rua José da Silva, 346, Farol, CEP 57002-220. Maceió, AL.\n",
        "\n",
        "• Rua da Consolação, 9999, apt 302, CEP 11022-202. São Paulo, SP.\n",
        "\n",
        "• Avenida Atlântica, 420, ap 1001, Copacabana, cep 22011-010. Rio de Janeiro, RJ."
      ]
    },
    {
      "cell_type": "code",
      "metadata": {
        "id": "1T2sMF8ToeMX"
      },
      "source": [
        "import re\n",
        "\n",
        "def search_based_er_in_string(string):\n",
        "  regular_expression = \"([A-Z]{1}[\\w\\s]+), ([\\d]+), ([a-z\\s\\d]*|[A-Z]{1}[a-z]*), ([A-Z]{1}[a-z]*|[\\w\\s\\d-]*). ([\\w\\s\\d,-]*). ?([\\w\\s,]*)\"\n",
        "  interpreter = re.compile(regular_expression)\n",
        "\n",
        "  phrase = interpreter.search(string)\n",
        "\n",
        "  return print(phrase.group(0),\"\\n\",phrase.group(1),\"\\n\",phrase.group(2),\"\\n\",phrase.group(3),\"\\n\",phrase.group(4),\"\\n\",phrase.group(5),\"\\n\",phrase.group(6))"
      ],
      "execution_count": 1,
      "outputs": []
    },
    {
      "cell_type": "code",
      "metadata": {
        "id": "vM8-KubBo9RA",
        "outputId": "8c7698a3-92f4-4156-b253-37ab4a8ac1ce",
        "colab": {
          "base_uri": "https://localhost:8080/",
          "height": 150
        }
      },
      "source": [
        "search_based_er_in_string(\"Rua José da Silva, 346, Farol, CEP 57002-220. Maceió, AL.\")"
      ],
      "execution_count": 2,
      "outputs": [
        {
          "output_type": "stream",
          "text": [
            "Rua José da Silva, 346, Farol, CEP 57002-220. Maceió, AL. \n",
            " Rua José da Silva \n",
            " 346 \n",
            " Farol \n",
            " CEP 57002-220 \n",
            " Maceió, AL \n",
            " \n"
          ],
          "name": "stdout"
        }
      ]
    },
    {
      "cell_type": "code",
      "metadata": {
        "id": "Cy9rTIm5o_KP",
        "outputId": "2c03d992-984c-4fa5-ad94-52e02a1abeb6",
        "colab": {
          "base_uri": "https://localhost:8080/",
          "height": 150
        }
      },
      "source": [
        "search_based_er_in_string(\"Rua da Consolação, 9999, apt 302, CEP 11022-202. São Paulo, SP.\")"
      ],
      "execution_count": 3,
      "outputs": [
        {
          "output_type": "stream",
          "text": [
            "Rua da Consolação, 9999, apt 302, CEP 11022-202. São Paulo, SP. \n",
            " Rua da Consolação \n",
            " 9999 \n",
            " apt 302 \n",
            " CEP 11022-202 \n",
            " São Paulo, SP \n",
            " \n"
          ],
          "name": "stdout"
        }
      ]
    },
    {
      "cell_type": "code",
      "metadata": {
        "id": "5lq3-wzHpAzC",
        "outputId": "3484d58f-26b2-4d7a-9203-4ecd830bf4cd",
        "colab": {
          "base_uri": "https://localhost:8080/",
          "height": 150
        }
      },
      "source": [
        "search_based_er_in_string(\"Avenida Atlântica, 420, ap 1001, Copacabana, cep 22011-010. Rio de Janeiro, RJ.\")"
      ],
      "execution_count": 4,
      "outputs": [
        {
          "output_type": "stream",
          "text": [
            "Avenida Atlântica, 420, ap 1001, Copacabana, cep 22011-010. Rio de Janeiro, RJ \n",
            " Avenida Atlântica \n",
            " 420 \n",
            " ap 1001 \n",
            " Copacabana \n",
            " cep 22011-010 \n",
            " Rio de Janeiro, RJ\n"
          ],
          "name": "stdout"
        }
      ]
    },
    {
      "cell_type": "markdown",
      "metadata": {
        "id": "92BhxQg2pUOy"
      },
      "source": [
        "#Implementing a function using regular expressions that finds all the URLs in a string."
      ]
    },
    {
      "cell_type": "code",
      "metadata": {
        "id": "zpt12PArpY5s"
      },
      "source": [
        "def search_urls_in_string(string):\n",
        "\n",
        "    pattern = re.compile(\"w{3}.{1}[\\w]+.{1}com{1}.br{1}|w{3}.[\\w]+.{1}com{1}\")\n",
        "\n",
        "    return print(pattern.findall(string))"
      ],
      "execution_count": 5,
      "outputs": []
    },
    {
      "cell_type": "code",
      "metadata": {
        "id": "w78WhQLNpkU_",
        "outputId": "df79e35f-5391-4890-e9bb-f06870ebf814",
        "colab": {
          "base_uri": "https://localhost:8080/",
          "height": 36
        }
      },
      "source": [
        "search_urls_in_string(\"akjdshakldhadwwww.testing.com237628736www.dois.com.bransdgjagdasdwww.tres.com.br\")"
      ],
      "execution_count": 6,
      "outputs": [
        {
          "output_type": "stream",
          "text": [
            "['www.testing.com', 'www.dois.com.br', 'www.tres.com.br']\n"
          ],
          "name": "stdout"
        }
      ]
    },
    {
      "cell_type": "code",
      "metadata": {
        "id": "AuzwEKz_pmGs",
        "outputId": "52abaecf-01eb-444c-8c27-8cd9b1ef4de0",
        "colab": {
          "base_uri": "https://localhost:8080/",
          "height": 36
        }
      },
      "source": [
        "search_urls_in_string(\"wwww.testingTESTINGTESTINGTESTING.com.br237628736www.dois.com.bransdgjagdasdwww.tres.com.br\")"
      ],
      "execution_count": 7,
      "outputs": [
        {
          "output_type": "stream",
          "text": [
            "['www.testingTESTINGTESTINGTESTING.com.br', 'www.dois.com.br', 'www.tres.com.br']\n"
          ],
          "name": "stdout"
        }
      ]
    },
    {
      "cell_type": "code",
      "metadata": {
        "id": "24ebUfb0pmOJ",
        "outputId": "d3f2dd97-0aef-42b0-8c6d-e65c10312ecd",
        "colab": {
          "base_uri": "https://localhost:8080/",
          "height": 36
        }
      },
      "source": [
        "search_urls_in_string(\"wwww.testingTESTINGTESTINGTESTING.com.br237628736www.dois.com.bransdgjagdasdwww.tres.com.br762547325674275246ahsdgjadghajd2653425746254jagsdjkadhwww.globo.com273562783672\")"
      ],
      "execution_count": 8,
      "outputs": [
        {
          "output_type": "stream",
          "text": [
            "['www.testingTESTINGTESTINGTESTING.com.br', 'www.dois.com.br', 'www.tres.com.br', 'www.globo.com']\n"
          ],
          "name": "stdout"
        }
      ]
    },
    {
      "cell_type": "markdown",
      "metadata": {
        "id": "BqP5GACjprxU"
      },
      "source": [
        "#Consider the following example book reference in APA citation format:\n",
        "\n",
        "\n",
        "\n",
        "Manning, C. D., Manning, C. D., & Schutze, H. (1999). Foundations ofstatistical natural language processing. MIT press.\n",
        "\n",
        "\n",
        "\n",
        "#Implementing a function using regular expressions that extracts each author, year of publication, title and publisher of the book, to any book reference in this format."
      ]
    },
    {
      "cell_type": "code",
      "metadata": {
        "id": "Dncf1PBApyZP"
      },
      "source": [
        "def search_format_APA_in_string(string):\n",
        "\n",
        "    author = re.compile(\"([A-Z]{1}[a-z]+,\\s[A-Z.\\s]+)\")#find author\n",
        "    year = re.compile(\"\\(\\d+\\)\")#find year of publication\n",
        "    others = re.compile(\"[A-Z]{1}[a-z]+[\\w\\s]+[.:]\\s[\\w\\s]+\")#find book title and publisher\n",
        "\n",
        "    author.findall(string)\n",
        "    year.findall(string)\n",
        "    others.findall(string)\n",
        "    \n",
        "    return print(\"authors: \",author.findall(string),\"\\n | year: \",year.findall(string),\"\\n | Book title and publisher: \", others.findall(string)) "
      ],
      "execution_count": 9,
      "outputs": []
    },
    {
      "cell_type": "code",
      "metadata": {
        "id": "oLnyNoX5qvUc",
        "outputId": "22448d1c-03da-4769-c49b-e934eaeeef59",
        "colab": {
          "base_uri": "https://localhost:8080/",
          "height": 74
        }
      },
      "source": [
        "search_format_APA_in_string(\"Manning, C. D., Manning, C. D., & Schutze, H. (1999). Foundations of statistical natural language processing. MIT press.\")"
      ],
      "execution_count": 10,
      "outputs": [
        {
          "output_type": "stream",
          "text": [
            "authors:  ['Manning, C. D.', 'Manning, C. D.', 'Schutze, H. '] \n",
            " | year:  ['(1999)'] \n",
            " | Book title and publisher:  ['Foundations of statistical natural language processing. MIT press']\n"
          ],
          "name": "stdout"
        }
      ]
    },
    {
      "cell_type": "code",
      "metadata": {
        "id": "zZ7qdHJRqxzx",
        "outputId": "5601f117-7225-44e5-f70d-0ba5ee359f3e",
        "colab": {
          "base_uri": "https://localhost:8080/",
          "height": 74
        }
      },
      "source": [
        "search_format_APA_in_string(\"Toffler, A. (1994). O choque do futuro (5a ed.). Rio de Janeiro: Record.\")"
      ],
      "execution_count": 11,
      "outputs": [
        {
          "output_type": "stream",
          "text": [
            "authors:  ['Toffler, A. '] \n",
            " | year:  ['(1994)'] \n",
            " | Book title and publisher:  ['Rio de Janeiro: Record']\n"
          ],
          "name": "stdout"
        }
      ]
    }
  ]
}